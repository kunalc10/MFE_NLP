{
 "cells": [
  {
   "cell_type": "code",
   "execution_count": 1,
   "id": "elegant-birthday",
   "metadata": {},
   "outputs": [],
   "source": [
    "import pandas as pd\n",
    "import numpy as np\n",
    "import matplotlib.pyplot as plt\n",
    "%matplotlib notebook"
   ]
  },
  {
   "cell_type": "code",
   "execution_count": 2,
   "id": "adverse-blanket",
   "metadata": {},
   "outputs": [],
   "source": [
    "## Read reviews\n",
    "df = pd.read_csv(\"/Users/kunalchakraborty/Downloads/rapid_due_dilligence/reviews_data.csv\")"
   ]
  },
  {
   "cell_type": "code",
   "execution_count": 3,
   "id": "electoral-athletics",
   "metadata": {},
   "outputs": [
    {
     "data": {
      "text/html": [
       "<div>\n",
       "<style scoped>\n",
       "    .dataframe tbody tr th:only-of-type {\n",
       "        vertical-align: middle;\n",
       "    }\n",
       "\n",
       "    .dataframe tbody tr th {\n",
       "        vertical-align: top;\n",
       "    }\n",
       "\n",
       "    .dataframe thead th {\n",
       "        text-align: right;\n",
       "    }\n",
       "</style>\n",
       "<table border=\"1\" class=\"dataframe\">\n",
       "  <thead>\n",
       "    <tr style=\"text-align: right;\">\n",
       "      <th></th>\n",
       "      <th>reviewId</th>\n",
       "      <th>userName</th>\n",
       "      <th>userImage</th>\n",
       "      <th>content</th>\n",
       "      <th>score</th>\n",
       "      <th>thumbsUpCount</th>\n",
       "      <th>reviewCreatedVersion</th>\n",
       "      <th>at</th>\n",
       "      <th>replyContent</th>\n",
       "      <th>repliedAt</th>\n",
       "    </tr>\n",
       "  </thead>\n",
       "  <tbody>\n",
       "    <tr>\n",
       "      <th>0</th>\n",
       "      <td>gp:AOqpTOF2pFouoTzaY889tNmGv4zN9newhheNzv2-zBP...</td>\n",
       "      <td>Alex Kway</td>\n",
       "      <td>https://play-lh.googleusercontent.com/a-/AOh14...</td>\n",
       "      <td>super</td>\n",
       "      <td>5</td>\n",
       "      <td>0</td>\n",
       "      <td>5.213.1</td>\n",
       "      <td>2021-03-30 01:20:47</td>\n",
       "      <td>NaN</td>\n",
       "      <td>NaN</td>\n",
       "    </tr>\n",
       "    <tr>\n",
       "      <th>1</th>\n",
       "      <td>gp:AOqpTOHLnSuiDefTW6tSLESFxMipQ_xC4lqFoqudq-V...</td>\n",
       "      <td>RL</td>\n",
       "      <td>https://play-lh.googleusercontent.com/-e1DJGr_...</td>\n",
       "      <td>They literally ask you to pay for everything. ...</td>\n",
       "      <td>1</td>\n",
       "      <td>1</td>\n",
       "      <td>5.213.1</td>\n",
       "      <td>2021-03-30 01:11:38</td>\n",
       "      <td>NaN</td>\n",
       "      <td>NaN</td>\n",
       "    </tr>\n",
       "    <tr>\n",
       "      <th>2</th>\n",
       "      <td>gp:AOqpTOGtIfjFtXHRSxxzGzRCDAc_t0SRtm41FIF8x-E...</td>\n",
       "      <td>Viktoria</td>\n",
       "      <td>https://play-lh.googleusercontent.com/-vFF7--v...</td>\n",
       "      <td>I cancelled subscription on the second day aft...</td>\n",
       "      <td>1</td>\n",
       "      <td>1</td>\n",
       "      <td>NaN</td>\n",
       "      <td>2021-03-30 00:57:33</td>\n",
       "      <td>NaN</td>\n",
       "      <td>NaN</td>\n",
       "    </tr>\n",
       "    <tr>\n",
       "      <th>3</th>\n",
       "      <td>gp:AOqpTOGHg_7dUptybABL1NSUmtQL0jIOWzdGEcB0fzJ...</td>\n",
       "      <td>Tournel Henry</td>\n",
       "      <td>https://play-lh.googleusercontent.com/a-/AOh14...</td>\n",
       "      <td>A dating app that favours one gender over the ...</td>\n",
       "      <td>1</td>\n",
       "      <td>1</td>\n",
       "      <td>5.213.1</td>\n",
       "      <td>2021-03-30 00:48:36</td>\n",
       "      <td>NaN</td>\n",
       "      <td>NaN</td>\n",
       "    </tr>\n",
       "    <tr>\n",
       "      <th>4</th>\n",
       "      <td>gp:AOqpTOEly8JKjN4pYT8_lqX4ogea84YEcnnuqHZtfN5...</td>\n",
       "      <td>wolf man</td>\n",
       "      <td>https://play-lh.googleusercontent.com/a-/AOh14...</td>\n",
       "      <td>If your geting notifications that you got a li...</td>\n",
       "      <td>5</td>\n",
       "      <td>1</td>\n",
       "      <td>5.213.1</td>\n",
       "      <td>2021-03-30 00:21:00</td>\n",
       "      <td>NaN</td>\n",
       "      <td>NaN</td>\n",
       "    </tr>\n",
       "  </tbody>\n",
       "</table>\n",
       "</div>"
      ],
      "text/plain": [
       "                                            reviewId       userName  \\\n",
       "0  gp:AOqpTOF2pFouoTzaY889tNmGv4zN9newhheNzv2-zBP...      Alex Kway   \n",
       "1  gp:AOqpTOHLnSuiDefTW6tSLESFxMipQ_xC4lqFoqudq-V...             RL   \n",
       "2  gp:AOqpTOGtIfjFtXHRSxxzGzRCDAc_t0SRtm41FIF8x-E...       Viktoria   \n",
       "3  gp:AOqpTOGHg_7dUptybABL1NSUmtQL0jIOWzdGEcB0fzJ...  Tournel Henry   \n",
       "4  gp:AOqpTOEly8JKjN4pYT8_lqX4ogea84YEcnnuqHZtfN5...       wolf man   \n",
       "\n",
       "                                           userImage  \\\n",
       "0  https://play-lh.googleusercontent.com/a-/AOh14...   \n",
       "1  https://play-lh.googleusercontent.com/-e1DJGr_...   \n",
       "2  https://play-lh.googleusercontent.com/-vFF7--v...   \n",
       "3  https://play-lh.googleusercontent.com/a-/AOh14...   \n",
       "4  https://play-lh.googleusercontent.com/a-/AOh14...   \n",
       "\n",
       "                                             content  score  thumbsUpCount  \\\n",
       "0                                              super      5              0   \n",
       "1  They literally ask you to pay for everything. ...      1              1   \n",
       "2  I cancelled subscription on the second day aft...      1              1   \n",
       "3  A dating app that favours one gender over the ...      1              1   \n",
       "4  If your geting notifications that you got a li...      5              1   \n",
       "\n",
       "  reviewCreatedVersion                   at replyContent repliedAt  \n",
       "0              5.213.1  2021-03-30 01:20:47          NaN       NaN  \n",
       "1              5.213.1  2021-03-30 01:11:38          NaN       NaN  \n",
       "2                  NaN  2021-03-30 00:57:33          NaN       NaN  \n",
       "3              5.213.1  2021-03-30 00:48:36          NaN       NaN  \n",
       "4              5.213.1  2021-03-30 00:21:00          NaN       NaN  "
      ]
     },
     "execution_count": 3,
     "metadata": {},
     "output_type": "execute_result"
    }
   ],
   "source": [
    "df.head()"
   ]
  },
  {
   "cell_type": "markdown",
   "id": "fallen-yacht",
   "metadata": {},
   "source": [
    "### Check the preprocessing functions"
   ]
  },
  {
   "cell_type": "code",
   "execution_count": 14,
   "id": "linear-correspondence",
   "metadata": {},
   "outputs": [],
   "source": [
    "import sys,os\n",
    "sys.path.append('/Users/kunalchakraborty/Downloads/rapid_due_dilligence/')"
   ]
  },
  {
   "cell_type": "code",
   "execution_count": 18,
   "id": "pointed-wilderness",
   "metadata": {},
   "outputs": [],
   "source": [
    "os.chdir('/Users/kunalchakraborty/Downloads/rapid_due_dilligence/codebase')"
   ]
  },
  {
   "cell_type": "code",
   "execution_count": 19,
   "id": "female-johnson",
   "metadata": {},
   "outputs": [],
   "source": [
    "import codebase"
   ]
  },
  {
   "cell_type": "code",
   "execution_count": 20,
   "id": "chemical-belarus",
   "metadata": {},
   "outputs": [],
   "source": [
    "from codebase.common_utils import ref_text_data"
   ]
  },
  {
   "cell_type": "code",
   "execution_count": 21,
   "id": "removable-penny",
   "metadata": {},
   "outputs": [],
   "source": [
    "from codebase.common_utils import preprocessing"
   ]
  },
  {
   "cell_type": "code",
   "execution_count": 22,
   "id": "interesting-hierarchy",
   "metadata": {},
   "outputs": [
    {
     "name": "stdout",
     "output_type": "stream",
     "text": [
      "I do not know what is going on\n",
      "I don't know what is going on\n",
      "I will be booking tickets for 2 adults\n",
      "hi, thank you so much\n",
      "i am play in ground\n",
      "am in home for years\n",
      "he  I am going  are you coming \n",
      "hey are you coming. ?\n",
      "I will be there on dd april\n",
      "Sure, you are welcome  \n",
      "Sure, you are welcome :P\n",
      "hello man\n",
      "dhoni rocks with last ball six\n",
      "I am very excited for today's fotball match\n"
     ]
    }
   ],
   "source": [
    "## Checking the validity of functions\n",
    "ex1 = \"I don't know what is going on\"\n",
    "print(preprocessing.appos_look_up(ex1))\n",
    "ex2 = \"I am verrry happpyyy today\"\n",
    "print(preprocessing.remove_repeated_characters(ex1))\n",
    "ex3 = \"I will be booking tickets for 2adults\"\n",
    "print(preprocessing.separate_digit_text(ex3))\n",
    "ex4 = \"hi, thanq so mch\"\n",
    "print(preprocessing.slang_look_up(ex4))\n",
    "ex5 = \"I am playing in ground\"\n",
    "print(preprocessing.stem_text(ex5))\n",
    "ex6 = \"I am in a home for 2 years\"\n",
    "print(preprocessing.remove_single_char_word(ex6))\n",
    "ex7 = \"he: I am going. are you coming?\"\n",
    "print(preprocessing.remove_punctuations(ex7))\n",
    "ex8 = \"hey are you coming. ?\"\n",
    "print(preprocessing.remove_extra_space(ex8))\n",
    "ex9 = \"I will be there on 22 april\"\n",
    "print(preprocessing.replace_digits_with_char(ex9))\n",
    "ex10 = \"Sure, you are welcome :P\"\n",
    "print(preprocessing.emoticons_look_up(ex10)[0])\n",
    "ex11 = \"link to latest cricket score. https://xyz.com/a/b\"\n",
    "print(preprocessing.remove_url(ex10))\n",
    "ex12 = \"hello man whatsup123\"\n",
    "print(preprocessing.remove_alphanumerics(ex12))\n",
    "ex13 = \"dhoni rocks with last ball six\"\n",
    "print(preprocessing.remove_words_start_with(ex13,'#'))\n",
    "ex14 = \"I am very excited for today's fotball match\"\n",
    "print(preprocessing.remove_stop_words(ex14))"
   ]
  },
  {
   "cell_type": "code",
   "execution_count": 23,
   "id": "careful-marketing",
   "metadata": {},
   "outputs": [],
   "source": [
    "### Apply the functions in combinations\n",
    "\n",
    "def clean_reviews(cell):\n",
    "    cell = preprocessing.slang_look_up(cell)\n",
    "    cell = preprocessing.appos_look_up(cell)\n",
    "    cell = preprocessing.emoticons_look_up(cell)[0]\n",
    "    cell = preprocessing.remove_repeated_characters(cell)\n",
    "    cell = preprocessing.remove_url(cell)\n",
    "    cell = preprocessing.remove_alphanumerics(cell)\n",
    "    cell = preprocessing.remove_extra_space(cell)\n",
    "    cell = preprocessing.remove_words_start_with(cell, \"#\")\n",
    "    cell = preprocessing.remove_words_start_with(cell, \"@\")\n",
    "    cell = preprocessing.remove_punctuations(cell)\n",
    "    cell = preprocessing.remove_single_char_word(cell)\n",
    "    cell = preprocessing.remove_stop_words(cell)\n",
    "    cell = preprocessing.stem_text(cell)\n",
    "    return cell"
   ]
  },
  {
   "cell_type": "code",
   "execution_count": 24,
   "id": "supreme-recipe",
   "metadata": {},
   "outputs": [],
   "source": [
    "### \n",
    "def apply_clean_reviews(cell):\n",
    "    try:\n",
    "        cell = clean_reviews(cell)\n",
    "    except:\n",
    "        cell = cell\n",
    "    return cell"
   ]
  },
  {
   "cell_type": "code",
   "execution_count": 25,
   "id": "atomic-shoot",
   "metadata": {},
   "outputs": [
    {
     "data": {
      "text/plain": [
       "Index(['reviewId', 'userName', 'userImage', 'content', 'score',\n",
       "       'thumbsUpCount', 'reviewCreatedVersion', 'at', 'replyContent',\n",
       "       'repliedAt'],\n",
       "      dtype='object')"
      ]
     },
     "execution_count": 25,
     "metadata": {},
     "output_type": "execute_result"
    }
   ],
   "source": [
    "df.columns"
   ]
  },
  {
   "cell_type": "code",
   "execution_count": 26,
   "id": "outside-publicity",
   "metadata": {},
   "outputs": [
    {
     "data": {
      "text/html": [
       "<div>\n",
       "<style scoped>\n",
       "    .dataframe tbody tr th:only-of-type {\n",
       "        vertical-align: middle;\n",
       "    }\n",
       "\n",
       "    .dataframe tbody tr th {\n",
       "        vertical-align: top;\n",
       "    }\n",
       "\n",
       "    .dataframe thead th {\n",
       "        text-align: right;\n",
       "    }\n",
       "</style>\n",
       "<table border=\"1\" class=\"dataframe\">\n",
       "  <thead>\n",
       "    <tr style=\"text-align: right;\">\n",
       "      <th></th>\n",
       "      <th>reviewId</th>\n",
       "      <th>userName</th>\n",
       "      <th>userImage</th>\n",
       "      <th>content</th>\n",
       "      <th>score</th>\n",
       "      <th>thumbsUpCount</th>\n",
       "      <th>reviewCreatedVersion</th>\n",
       "      <th>at</th>\n",
       "      <th>replyContent</th>\n",
       "      <th>repliedAt</th>\n",
       "    </tr>\n",
       "  </thead>\n",
       "  <tbody>\n",
       "    <tr>\n",
       "      <th>0</th>\n",
       "      <td>gp:AOqpTOF2pFouoTzaY889tNmGv4zN9newhheNzv2-zBP...</td>\n",
       "      <td>Alex Kway</td>\n",
       "      <td>https://play-lh.googleusercontent.com/a-/AOh14...</td>\n",
       "      <td>super</td>\n",
       "      <td>5</td>\n",
       "      <td>0</td>\n",
       "      <td>5.213.1</td>\n",
       "      <td>2021-03-30 01:20:47</td>\n",
       "      <td>NaN</td>\n",
       "      <td>NaN</td>\n",
       "    </tr>\n",
       "    <tr>\n",
       "      <th>1</th>\n",
       "      <td>gp:AOqpTOHLnSuiDefTW6tSLESFxMipQ_xC4lqFoqudq-V...</td>\n",
       "      <td>RL</td>\n",
       "      <td>https://play-lh.googleusercontent.com/-e1DJGr_...</td>\n",
       "      <td>They literally ask you to pay for everything. ...</td>\n",
       "      <td>1</td>\n",
       "      <td>1</td>\n",
       "      <td>5.213.1</td>\n",
       "      <td>2021-03-30 01:11:38</td>\n",
       "      <td>NaN</td>\n",
       "      <td>NaN</td>\n",
       "    </tr>\n",
       "    <tr>\n",
       "      <th>2</th>\n",
       "      <td>gp:AOqpTOGtIfjFtXHRSxxzGzRCDAc_t0SRtm41FIF8x-E...</td>\n",
       "      <td>Viktoria</td>\n",
       "      <td>https://play-lh.googleusercontent.com/-vFF7--v...</td>\n",
       "      <td>I cancelled subscription on the second day aft...</td>\n",
       "      <td>1</td>\n",
       "      <td>1</td>\n",
       "      <td>NaN</td>\n",
       "      <td>2021-03-30 00:57:33</td>\n",
       "      <td>NaN</td>\n",
       "      <td>NaN</td>\n",
       "    </tr>\n",
       "    <tr>\n",
       "      <th>3</th>\n",
       "      <td>gp:AOqpTOGHg_7dUptybABL1NSUmtQL0jIOWzdGEcB0fzJ...</td>\n",
       "      <td>Tournel Henry</td>\n",
       "      <td>https://play-lh.googleusercontent.com/a-/AOh14...</td>\n",
       "      <td>A dating app that favours one gender over the ...</td>\n",
       "      <td>1</td>\n",
       "      <td>1</td>\n",
       "      <td>5.213.1</td>\n",
       "      <td>2021-03-30 00:48:36</td>\n",
       "      <td>NaN</td>\n",
       "      <td>NaN</td>\n",
       "    </tr>\n",
       "    <tr>\n",
       "      <th>4</th>\n",
       "      <td>gp:AOqpTOEly8JKjN4pYT8_lqX4ogea84YEcnnuqHZtfN5...</td>\n",
       "      <td>wolf man</td>\n",
       "      <td>https://play-lh.googleusercontent.com/a-/AOh14...</td>\n",
       "      <td>If your geting notifications that you got a li...</td>\n",
       "      <td>5</td>\n",
       "      <td>1</td>\n",
       "      <td>5.213.1</td>\n",
       "      <td>2021-03-30 00:21:00</td>\n",
       "      <td>NaN</td>\n",
       "      <td>NaN</td>\n",
       "    </tr>\n",
       "  </tbody>\n",
       "</table>\n",
       "</div>"
      ],
      "text/plain": [
       "                                            reviewId       userName  \\\n",
       "0  gp:AOqpTOF2pFouoTzaY889tNmGv4zN9newhheNzv2-zBP...      Alex Kway   \n",
       "1  gp:AOqpTOHLnSuiDefTW6tSLESFxMipQ_xC4lqFoqudq-V...             RL   \n",
       "2  gp:AOqpTOGtIfjFtXHRSxxzGzRCDAc_t0SRtm41FIF8x-E...       Viktoria   \n",
       "3  gp:AOqpTOGHg_7dUptybABL1NSUmtQL0jIOWzdGEcB0fzJ...  Tournel Henry   \n",
       "4  gp:AOqpTOEly8JKjN4pYT8_lqX4ogea84YEcnnuqHZtfN5...       wolf man   \n",
       "\n",
       "                                           userImage  \\\n",
       "0  https://play-lh.googleusercontent.com/a-/AOh14...   \n",
       "1  https://play-lh.googleusercontent.com/-e1DJGr_...   \n",
       "2  https://play-lh.googleusercontent.com/-vFF7--v...   \n",
       "3  https://play-lh.googleusercontent.com/a-/AOh14...   \n",
       "4  https://play-lh.googleusercontent.com/a-/AOh14...   \n",
       "\n",
       "                                             content  score  thumbsUpCount  \\\n",
       "0                                              super      5              0   \n",
       "1  They literally ask you to pay for everything. ...      1              1   \n",
       "2  I cancelled subscription on the second day aft...      1              1   \n",
       "3  A dating app that favours one gender over the ...      1              1   \n",
       "4  If your geting notifications that you got a li...      5              1   \n",
       "\n",
       "  reviewCreatedVersion                   at replyContent repliedAt  \n",
       "0              5.213.1  2021-03-30 01:20:47          NaN       NaN  \n",
       "1              5.213.1  2021-03-30 01:11:38          NaN       NaN  \n",
       "2                  NaN  2021-03-30 00:57:33          NaN       NaN  \n",
       "3              5.213.1  2021-03-30 00:48:36          NaN       NaN  \n",
       "4              5.213.1  2021-03-30 00:21:00          NaN       NaN  "
      ]
     },
     "execution_count": 26,
     "metadata": {},
     "output_type": "execute_result"
    }
   ],
   "source": [
    "df.head()"
   ]
  },
  {
   "cell_type": "code",
   "execution_count": 27,
   "id": "happy-playback",
   "metadata": {},
   "outputs": [],
   "source": [
    "df[\"cleaned_reviews\"] = df[\"content\"].apply(apply_clean_reviews)"
   ]
  },
  {
   "cell_type": "code",
   "execution_count": 28,
   "id": "extreme-royalty",
   "metadata": {},
   "outputs": [],
   "source": [
    "# Save cleaned data\n",
    "df.to_csv(\"/Users/kunalchakraborty/Downloads/rapid_due_dilligence/reviews_data_cleaned.csv\", index=False)"
   ]
  }
 ],
 "metadata": {
  "kernelspec": {
   "display_name": "Python 3",
   "language": "python",
   "name": "python3"
  },
  "language_info": {
   "codemirror_mode": {
    "name": "ipython",
    "version": 3
   },
   "file_extension": ".py",
   "mimetype": "text/x-python",
   "name": "python",
   "nbconvert_exporter": "python",
   "pygments_lexer": "ipython3",
   "version": "3.8.2"
  }
 },
 "nbformat": 4,
 "nbformat_minor": 5
}
