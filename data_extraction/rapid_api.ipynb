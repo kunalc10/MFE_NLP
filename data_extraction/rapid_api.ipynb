{
 "cells": [
  {
   "cell_type": "code",
   "execution_count": null,
   "metadata": {},
   "outputs": [],
   "source": [
    "import requests\n",
    "import keys\n",
    "import pandas as pd\n",
    "\n",
    "url = \"https://contextualwebsearch-websearch-v1.p.rapidapi.com/api/search/NewsSearchAPI\"\n",
    "\n",
    "search_strings = [\"bumble\", \"bumble BMBL\", \"bumble dating\", \"bumble tinder\", \"bumble inc.\"]\n",
    "\n",
    "headers = {\n",
    "    'x-rapidapi-key': keys.RAPID_API,\n",
    "    'x-rapidapi-host': \"contextualwebsearch-websearch-v1.p.rapidapi.com\"\n",
    "}\n",
    "all_articles = []\n",
    "for search_string in search_strings:\n",
    "    for i in range(0, 365):\n",
    "        published_date = date.today() - timedelta(i)\n",
    "        next_date = published_date + timedelta(1)\n",
    "        \n",
    "        published_string = published_date.isoformat().split(\":\")[0]\n",
    "        next_string = next_date.isoformat().split(\":\")[0]\n",
    "        \n",
    "        querystring = {\n",
    "            \"q\":search_string,\n",
    "            \"pageNumber\":\"1\",\n",
    "            \"pageSize\":\"50\",\n",
    "            \"fromPublishedDate\": published_string,\n",
    "            \"toPublishedDate\":next_string\n",
    "        }\n",
    "\n",
    "        response = requests.request(\"GET\", url, headers=headers, params=querystring)\n",
    "\n",
    "        results = response.json()['value']\n",
    "        rows = [\n",
    "            {\n",
    "                \"date\": published_string,\n",
    "                \"title\": res[\"title\"],\n",
    "                \"body\": res[\"body\"],\n",
    "                \"description\": res[\"description\"],\n",
    "                \"search_string\": search_string,\n",
    "                \"url\": res[\"url\"]\n",
    "            }\n",
    "            for res in results\n",
    "        ]\n",
    "        all_articles.extend(rows)\n",
    "        \n",
    "data = pd.DataFrame(all_articles)\n",
    "data.date = pd.to_datetime(data.date)\n",
    "data = data.set_index('date')\n",
    "\n",
    "data.to_csv('rapid_with_link.csv')"
   ]
  }
 ],
 "metadata": {
  "kernelspec": {
   "display_name": "Python 3",
   "language": "python",
   "name": "python3"
  },
  "language_info": {
   "codemirror_mode": {
    "name": "ipython",
    "version": 3
   },
   "file_extension": ".py",
   "mimetype": "text/x-python",
   "name": "python",
   "nbconvert_exporter": "python",
   "pygments_lexer": "ipython3",
   "version": "3.7.3"
  }
 },
 "nbformat": 4,
 "nbformat_minor": 2
}
