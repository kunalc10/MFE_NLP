{
 "cells": [
  {
   "cell_type": "code",
   "execution_count": 11,
   "metadata": {},
   "outputs": [],
   "source": [
    "import numpy as np\n",
    "import pandas as pd\n",
    "from common_utils import  preprocessing\n",
    "import gensim"
   ]
  },
  {
   "cell_type": "code",
   "execution_count": 80,
   "metadata": {
    "collapsed": true
   },
   "outputs": [
    {
     "data": {
      "text/plain": "          date                                              title  \\\n1   2020-04-24  Bumble Grants Nearly $1M To Women-Owned Busine...   \n2   2020-04-23  Bumble Grants Nearly $1M To Women-Owned Busine...   \n5   2020-03-31              Top 814 Reviews about Bumble Bee Tuna   \n6   2020-03-30              Top 814 Reviews about Bumble Bee Tuna   \n13  2020-03-11                      Black Canyon 100k Race Report   \n\n                                                 body  \\\n1   Top 10 Remote Online Interview Tips During Loc...   \n2   Top 10 Remote Online Interview Tips During Loc...   \n5   Verified Reviewer\\nOriginal review: July 13, 2...   \n6   Verified Reviewer\\nOriginal review: July 13, 2...   \n13  Roam & Run Team\\nA Day in the Desert - Black C...   \n\n                                          description search_string  \\\n1   Ilana Kruger, founder and CEO of Dripkit, is o...        bumble   \n2   Ilana Kruger, founder and CEO of Dripkit, is o...        bumble   \n5   I see many people are complaining about the sa...        bumble   \n6   I see many people are complaining about the sa...        bumble   \n13  A Day in the Desert- My Black Canyon 100K Race...        bumble   \n\n                                                  url  \n1   https://www.forbes.com/sites/erinspencer1/2020...  \n2   https://www.forbes.com/sites/erinspencer1/2020...  \n5   https://www.consumeraffairs.com/food/bumble_be...  \n6   https://www.consumeraffairs.com/food/bumble_be...  \n13  https://www.roamandrun.com/post/a-day-in-the-d...  ",
      "text/html": "<div>\n<style scoped>\n    .dataframe tbody tr th:only-of-type {\n        vertical-align: middle;\n    }\n\n    .dataframe tbody tr th {\n        vertical-align: top;\n    }\n\n    .dataframe thead th {\n        text-align: right;\n    }\n</style>\n<table border=\"1\" class=\"dataframe\">\n  <thead>\n    <tr style=\"text-align: right;\">\n      <th></th>\n      <th>date</th>\n      <th>title</th>\n      <th>body</th>\n      <th>description</th>\n      <th>search_string</th>\n      <th>url</th>\n    </tr>\n  </thead>\n  <tbody>\n    <tr>\n      <th>1</th>\n      <td>2020-04-24</td>\n      <td>Bumble Grants Nearly $1M To Women-Owned Busine...</td>\n      <td>Top 10 Remote Online Interview Tips During Loc...</td>\n      <td>Ilana Kruger, founder and CEO of Dripkit, is o...</td>\n      <td>bumble</td>\n      <td>https://www.forbes.com/sites/erinspencer1/2020...</td>\n    </tr>\n    <tr>\n      <th>2</th>\n      <td>2020-04-23</td>\n      <td>Bumble Grants Nearly $1M To Women-Owned Busine...</td>\n      <td>Top 10 Remote Online Interview Tips During Loc...</td>\n      <td>Ilana Kruger, founder and CEO of Dripkit, is o...</td>\n      <td>bumble</td>\n      <td>https://www.forbes.com/sites/erinspencer1/2020...</td>\n    </tr>\n    <tr>\n      <th>5</th>\n      <td>2020-03-31</td>\n      <td>Top 814 Reviews about Bumble Bee Tuna</td>\n      <td>Verified Reviewer\\nOriginal review: July 13, 2...</td>\n      <td>I see many people are complaining about the sa...</td>\n      <td>bumble</td>\n      <td>https://www.consumeraffairs.com/food/bumble_be...</td>\n    </tr>\n    <tr>\n      <th>6</th>\n      <td>2020-03-30</td>\n      <td>Top 814 Reviews about Bumble Bee Tuna</td>\n      <td>Verified Reviewer\\nOriginal review: July 13, 2...</td>\n      <td>I see many people are complaining about the sa...</td>\n      <td>bumble</td>\n      <td>https://www.consumeraffairs.com/food/bumble_be...</td>\n    </tr>\n    <tr>\n      <th>13</th>\n      <td>2020-03-11</td>\n      <td>Black Canyon 100k Race Report</td>\n      <td>Roam &amp; Run Team\\nA Day in the Desert - Black C...</td>\n      <td>A Day in the Desert- My Black Canyon 100K Race...</td>\n      <td>bumble</td>\n      <td>https://www.roamandrun.com/post/a-day-in-the-d...</td>\n    </tr>\n  </tbody>\n</table>\n</div>"
     },
     "execution_count": 80,
     "metadata": {},
     "output_type": "execute_result"
    }
   ],
   "source": [
    "data = pd.read_csv('../data_extraction/rapid_with_link2.csv')\n",
    "data = data[~data.description.str.contains('Bee|bee')]\n",
    "data.head()"
   ]
  },
  {
   "cell_type": "code",
   "execution_count": 72,
   "outputs": [
    {
     "data": {
      "text/plain": "0        True\n1       False\n2       False\n3        True\n4       False\n        ...  \n5457     True\n5458     True\n5459     True\n5460     True\n5461     True\nName: description, Length: 5462, dtype: bool"
     },
     "execution_count": 72,
     "metadata": {},
     "output_type": "execute_result"
    }
   ],
   "source": [],
   "metadata": {
    "collapsed": false,
    "pycharm": {
     "name": "#%%\n"
    }
   }
  },
  {
   "cell_type": "code",
   "execution_count": 81,
   "outputs": [],
   "source": [
    "def clean_reviews(cell):\n",
    "    cell = preprocessing.slang_look_up(cell)\n",
    "    cell = preprocessing.appos_look_up(cell)\n",
    "    cell = preprocessing.emoticons_look_up(cell)[0]\n",
    "    cell = preprocessing.remove_repeated_characters(cell)\n",
    "    cell = preprocessing.remove_url(cell)\n",
    "    cell = preprocessing.remove_alphanumerics(cell)\n",
    "    cell = preprocessing.remove_extra_space(cell)\n",
    "    cell = preprocessing.remove_punctuations(cell)\n",
    "    cell = preprocessing.remove_single_char_word(cell)\n",
    "    cell = preprocessing.remove_stop_words(cell, list(gensim.parsing.preprocessing.STOPWORDS))\n",
    "    cell = preprocessing.stem_text(cell)\n",
    "    return cell\n",
    "\n",
    "def apply_clean_reviews(cell):\n",
    "    try:\n",
    "        return clean_reviews(cell)\n",
    "    except:\n",
    "        return cell"
   ],
   "metadata": {
    "collapsed": false,
    "pycharm": {
     "name": "#%%\n"
    }
   }
  },
  {
   "cell_type": "code",
   "execution_count": 97,
   "outputs": [],
   "source": [
    "data.description = data.description.apply(apply_clean_reviews)\n",
    "data.body = data.body.apply(apply_clean_reviews)\n",
    "data.title = data.title.apply(apply_clean_reviews)\n",
    "\n",
    "data = data.drop_duplicates('title').drop_duplicates('body').drop_duplicates('description').dropna()"
   ],
   "metadata": {
    "collapsed": false,
    "pycharm": {
     "name": "#%%\n"
    }
   }
  },
  {
   "cell_type": "code",
   "execution_count": 98,
   "outputs": [
    {
     "data": {
      "text/plain": "          date                                          title  \\\n1   2020-04-24             bumbl grant near womenown busi hit   \n5   2020-03-31                          review bumbl bee tuna   \n13  2020-03-11                       black canyon race report   \n15  2020-03-04  bumbl bee new ventur vegan seafood wide avail   \n23  2020-02-22       chicken sea face fine whistleblow status   \n\n                                                 body  \\\n1   remot onlin interview tip lockdown overwhelm e...   \n5   verifi review origin review juli reli bumbl be...   \n13  roam run team day desert black canyon race rep...   \n15  share week seafood brand bumbl bee foodsknown ...   \n23  addit websit contact inform chicken sea face f...   \n\n                                          description search_string  \\\n1   ilana kruger founder ceo dripkit busi owner re...        bumble   \n5   peopl complain thing seen late mushi solid whi...        bumble   \n13                day desert black canyon race report        bumble   \n15  seafood brand partner vegan compani good catch...        bumble   \n23  chicken sea face fine whistleblow status seafo...        bumble   \n\n                                                  url  \n1   https://www.forbes.com/sites/erinspencer1/2020...  \n5   https://www.consumeraffairs.com/food/bumble_be...  \n13  https://www.roamandrun.com/post/a-day-in-the-d...  \n15  https://vegnews.com/2020/3/bumble-bee-s-new-ve...  \n23  http://www.seafood.com/Story/1158004/Chicken-o...  ",
      "text/html": "<div>\n<style scoped>\n    .dataframe tbody tr th:only-of-type {\n        vertical-align: middle;\n    }\n\n    .dataframe tbody tr th {\n        vertical-align: top;\n    }\n\n    .dataframe thead th {\n        text-align: right;\n    }\n</style>\n<table border=\"1\" class=\"dataframe\">\n  <thead>\n    <tr style=\"text-align: right;\">\n      <th></th>\n      <th>date</th>\n      <th>title</th>\n      <th>body</th>\n      <th>description</th>\n      <th>search_string</th>\n      <th>url</th>\n    </tr>\n  </thead>\n  <tbody>\n    <tr>\n      <th>1</th>\n      <td>2020-04-24</td>\n      <td>bumbl grant near womenown busi hit</td>\n      <td>remot onlin interview tip lockdown overwhelm e...</td>\n      <td>ilana kruger founder ceo dripkit busi owner re...</td>\n      <td>bumble</td>\n      <td>https://www.forbes.com/sites/erinspencer1/2020...</td>\n    </tr>\n    <tr>\n      <th>5</th>\n      <td>2020-03-31</td>\n      <td>review bumbl bee tuna</td>\n      <td>verifi review origin review juli reli bumbl be...</td>\n      <td>peopl complain thing seen late mushi solid whi...</td>\n      <td>bumble</td>\n      <td>https://www.consumeraffairs.com/food/bumble_be...</td>\n    </tr>\n    <tr>\n      <th>13</th>\n      <td>2020-03-11</td>\n      <td>black canyon race report</td>\n      <td>roam run team day desert black canyon race rep...</td>\n      <td>day desert black canyon race report</td>\n      <td>bumble</td>\n      <td>https://www.roamandrun.com/post/a-day-in-the-d...</td>\n    </tr>\n    <tr>\n      <th>15</th>\n      <td>2020-03-04</td>\n      <td>bumbl bee new ventur vegan seafood wide avail</td>\n      <td>share week seafood brand bumbl bee foodsknown ...</td>\n      <td>seafood brand partner vegan compani good catch...</td>\n      <td>bumble</td>\n      <td>https://vegnews.com/2020/3/bumble-bee-s-new-ve...</td>\n    </tr>\n    <tr>\n      <th>23</th>\n      <td>2020-02-22</td>\n      <td>chicken sea face fine whistleblow status</td>\n      <td>addit websit contact inform chicken sea face f...</td>\n      <td>chicken sea face fine whistleblow status seafo...</td>\n      <td>bumble</td>\n      <td>http://www.seafood.com/Story/1158004/Chicken-o...</td>\n    </tr>\n  </tbody>\n</table>\n</div>"
     },
     "execution_count": 98,
     "metadata": {},
     "output_type": "execute_result"
    }
   ],
   "source": [
    "data.head()"
   ],
   "metadata": {
    "collapsed": false,
    "pycharm": {
     "name": "#%%\n"
    }
   }
  },
  {
   "cell_type": "code",
   "execution_count": 84,
   "outputs": [],
   "source": [
    "data.to_csv(\"../rapid_news_cleaned.csv\", index=False)"
   ],
   "metadata": {
    "collapsed": false,
    "pycharm": {
     "name": "#%%\n"
    }
   }
  },
  {
   "cell_type": "code",
   "execution_count": null,
   "outputs": [],
   "source": [],
   "metadata": {
    "collapsed": false,
    "pycharm": {
     "name": "#%%\n"
    }
   }
  }
 ],
 "metadata": {
  "kernelspec": {
   "name": "python3",
   "language": "python",
   "display_name": "Python 3"
  },
  "language_info": {
   "codemirror_mode": {
    "name": "ipython",
    "version": 2.0
   },
   "file_extension": ".py",
   "mimetype": "text/x-python",
   "name": "python",
   "nbconvert_exporter": "python",
   "pygments_lexer": "ipython2",
   "version": "2.7.6"
  }
 },
 "nbformat": 4,
 "nbformat_minor": 0
}