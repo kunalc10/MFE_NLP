{
 "cells": [
  {
   "cell_type": "code",
   "execution_count": 8,
   "metadata": {},
   "outputs": [],
   "source": [
    "import warnings\n",
    "warnings.filterwarnings('ignore')\n",
    "import pandas as pd\n",
    "from common_utils import  preprocessing\n",
    "import gensim"
   ]
  },
  {
   "cell_type": "code",
   "execution_count": 3,
   "metadata": {
    "collapsed": true
   },
   "outputs": [
    {
     "data": {
      "text/plain": "         date                                              title  \\\n0  2021-05-05  Bumble (BMBL) Scheduled to Post Earnings on We...   \n1  2021-05-05  Ben Affleck asks woman why she unmatched him o...   \n2  2021-05-05           We spark memorable talks between singles   \n3  2021-05-05  Thursday dating app| Thursday is a new dating ...   \n4  2021-05-05  Theres now a dating app made for celebrities t...   \n\n                                                body  \\\n0  Tweet\\nBumble (NASDAQ:BMBL) will be posting it...   \n1  1620211446\\nBen Affleck asks woman why she unm...   \n2  Hily Dating App is made to help you connect wi...   \n3  Saumya Agrawal\\nUpdated May 05, 2021 | 15:47IS...   \n4  Theres a dating too called Raya, made  exclusi...   \n\n                                         description      search_string  \\\n0  Bumble (NASDAQ:BMBL) will be posting its quart...  bumble dating app   \n1  A TikTok user has shared a video of actor Ben ...  bumble dating app   \n2  Hily Dating App is made to help you connect wi...  bumble dating app   \n3  Thursday, a London-based dating app, will be a...  bumble dating app   \n4  Theres a dating too called Raya, made  exclusi...  bumble dating app   \n\n                                                 url  \n0  https://www.tickerreport.com/banking-finance/7...  \n1  https://www.independent.co.uk/tv/culture/ben-a...  \n2             https://www.producthunt.com/posts/hily  \n3  https://www.timesnownews.com/the-buzz/article/...  \n4  https://forums.sherdog.com/threads/theres-now-...  ",
      "text/html": "<div>\n<style scoped>\n    .dataframe tbody tr th:only-of-type {\n        vertical-align: middle;\n    }\n\n    .dataframe tbody tr th {\n        vertical-align: top;\n    }\n\n    .dataframe thead th {\n        text-align: right;\n    }\n</style>\n<table border=\"1\" class=\"dataframe\">\n  <thead>\n    <tr style=\"text-align: right;\">\n      <th></th>\n      <th>date</th>\n      <th>title</th>\n      <th>body</th>\n      <th>description</th>\n      <th>search_string</th>\n      <th>url</th>\n    </tr>\n  </thead>\n  <tbody>\n    <tr>\n      <th>0</th>\n      <td>2021-05-05</td>\n      <td>Bumble (BMBL) Scheduled to Post Earnings on We...</td>\n      <td>Tweet\\nBumble (NASDAQ:BMBL) will be posting it...</td>\n      <td>Bumble (NASDAQ:BMBL) will be posting its quart...</td>\n      <td>bumble dating app</td>\n      <td>https://www.tickerreport.com/banking-finance/7...</td>\n    </tr>\n    <tr>\n      <th>1</th>\n      <td>2021-05-05</td>\n      <td>Ben Affleck asks woman why she unmatched him o...</td>\n      <td>1620211446\\nBen Affleck asks woman why she unm...</td>\n      <td>A TikTok user has shared a video of actor Ben ...</td>\n      <td>bumble dating app</td>\n      <td>https://www.independent.co.uk/tv/culture/ben-a...</td>\n    </tr>\n    <tr>\n      <th>2</th>\n      <td>2021-05-05</td>\n      <td>We spark memorable talks between singles</td>\n      <td>Hily Dating App is made to help you connect wi...</td>\n      <td>Hily Dating App is made to help you connect wi...</td>\n      <td>bumble dating app</td>\n      <td>https://www.producthunt.com/posts/hily</td>\n    </tr>\n    <tr>\n      <th>3</th>\n      <td>2021-05-05</td>\n      <td>Thursday dating app| Thursday is a new dating ...</td>\n      <td>Saumya Agrawal\\nUpdated May 05, 2021 | 15:47IS...</td>\n      <td>Thursday, a London-based dating app, will be a...</td>\n      <td>bumble dating app</td>\n      <td>https://www.timesnownews.com/the-buzz/article/...</td>\n    </tr>\n    <tr>\n      <th>4</th>\n      <td>2021-05-05</td>\n      <td>Theres now a dating app made for celebrities t...</td>\n      <td>Theres a dating too called Raya, made  exclusi...</td>\n      <td>Theres a dating too called Raya, made  exclusi...</td>\n      <td>bumble dating app</td>\n      <td>https://forums.sherdog.com/threads/theres-now-...</td>\n    </tr>\n  </tbody>\n</table>\n</div>"
     },
     "execution_count": 3,
     "metadata": {},
     "output_type": "execute_result"
    }
   ],
   "source": [
    "data = pd.read_csv('../data_extraction/rapid_with_link.csv')\n",
    "data = data[~data.description.str.contains('Bee|bee')]\n",
    "data.head()"
   ]
  },
  {
   "cell_type": "code",
   "execution_count": 17,
   "outputs": [],
   "source": [
    "def clean_reviews(cell):\n",
    "    cell = preprocessing.slang_look_up(cell)\n",
    "    cell = preprocessing.appos_look_up(cell)\n",
    "    cell = preprocessing.emoticons_look_up(cell)[0]\n",
    "    cell = preprocessing.remove_repeated_characters(cell)\n",
    "    cell = preprocessing.remove_url(cell)\n",
    "    cell = preprocessing.remove_alphanumerics(cell)\n",
    "    cell = preprocessing.remove_extra_space(cell)\n",
    "    cell = preprocessing.remove_punctuations(cell)\n",
    "    cell = preprocessing.remove_single_char_word(cell)\n",
    "    cell = preprocessing.remove_stop_words(cell, list(gensim.parsing.preprocessing.STOPWORDS))\n",
    "    cell = preprocessing.stem_text(cell)\n",
    "    return cell\n",
    "\n",
    "def apply_clean_reviews(cell):\n",
    "    try:\n",
    "        return clean_reviews(cell)\n",
    "    except:\n",
    "        return cell"
   ],
   "metadata": {
    "collapsed": false,
    "pycharm": {
     "name": "#%%\n"
    }
   }
  },
  {
   "cell_type": "code",
   "execution_count": 18,
   "outputs": [],
   "source": [
    "data.description = data.description.apply(apply_clean_reviews)\n",
    "data.body = data.body.apply(apply_clean_reviews)\n",
    "data.title = data.title.apply(apply_clean_reviews)\n",
    "\n",
    "data = data.drop_duplicates('title').drop_duplicates('body').drop_duplicates('description').dropna()"
   ],
   "metadata": {
    "collapsed": false,
    "pycharm": {
     "name": "#%%\n"
    }
   }
  },
  {
   "cell_type": "code",
   "execution_count": 19,
   "outputs": [
    {
     "data": {
      "text/plain": "         date                                              title  \\\n0  2021-05-05             bumbl bmbl schedul post earn wednesday   \n1  2021-05-05  ben affleck ask woman unmatch date app tiktok ...   \n2  2021-05-05                             spark memor talk singl   \n3  2021-05-05  thursday date app| thursday new date app work ...   \n4  2021-05-05                        date app celebr exclus bang   \n\n                                                body  \\\n0  tweet bumbl nasdaq bmbl post quarter earn resu...   \n1  ben affleck ask woman unmatch date app tiktok ...   \n2  hili date app help connect new peopl start mea...   \n3  saumya agraw updat thursday londonba date app ...   \n4  date raya exclus celebr match nonceleb want jo...   \n\n                                         description      search_string  \\\n0  bumbl nasdaq bmbl post quarter earn result mar...  bumble dating app   \n1  tiktok user share video actor ben affleck ask ...  bumble dating app   \n2  hili date app help connect new peopl start mea...  bumble dating app   \n3  thursday londonba date app avail singl day wee...  bumble dating app   \n4  date raya exclus celebr match nonceleb want jo...  bumble dating app   \n\n                                                 url  \n0  https://www.tickerreport.com/banking-finance/7...  \n1  https://www.independent.co.uk/tv/culture/ben-a...  \n2             https://www.producthunt.com/posts/hily  \n3  https://www.timesnownews.com/the-buzz/article/...  \n4  https://forums.sherdog.com/threads/theres-now-...  ",
      "text/html": "<div>\n<style scoped>\n    .dataframe tbody tr th:only-of-type {\n        vertical-align: middle;\n    }\n\n    .dataframe tbody tr th {\n        vertical-align: top;\n    }\n\n    .dataframe thead th {\n        text-align: right;\n    }\n</style>\n<table border=\"1\" class=\"dataframe\">\n  <thead>\n    <tr style=\"text-align: right;\">\n      <th></th>\n      <th>date</th>\n      <th>title</th>\n      <th>body</th>\n      <th>description</th>\n      <th>search_string</th>\n      <th>url</th>\n    </tr>\n  </thead>\n  <tbody>\n    <tr>\n      <th>0</th>\n      <td>2021-05-05</td>\n      <td>bumbl bmbl schedul post earn wednesday</td>\n      <td>tweet bumbl nasdaq bmbl post quarter earn resu...</td>\n      <td>bumbl nasdaq bmbl post quarter earn result mar...</td>\n      <td>bumble dating app</td>\n      <td>https://www.tickerreport.com/banking-finance/7...</td>\n    </tr>\n    <tr>\n      <th>1</th>\n      <td>2021-05-05</td>\n      <td>ben affleck ask woman unmatch date app tiktok ...</td>\n      <td>ben affleck ask woman unmatch date app tiktok ...</td>\n      <td>tiktok user share video actor ben affleck ask ...</td>\n      <td>bumble dating app</td>\n      <td>https://www.independent.co.uk/tv/culture/ben-a...</td>\n    </tr>\n    <tr>\n      <th>2</th>\n      <td>2021-05-05</td>\n      <td>spark memor talk singl</td>\n      <td>hili date app help connect new peopl start mea...</td>\n      <td>hili date app help connect new peopl start mea...</td>\n      <td>bumble dating app</td>\n      <td>https://www.producthunt.com/posts/hily</td>\n    </tr>\n    <tr>\n      <th>3</th>\n      <td>2021-05-05</td>\n      <td>thursday date app| thursday new date app work ...</td>\n      <td>saumya agraw updat thursday londonba date app ...</td>\n      <td>thursday londonba date app avail singl day wee...</td>\n      <td>bumble dating app</td>\n      <td>https://www.timesnownews.com/the-buzz/article/...</td>\n    </tr>\n    <tr>\n      <th>4</th>\n      <td>2021-05-05</td>\n      <td>date app celebr exclus bang</td>\n      <td>date raya exclus celebr match nonceleb want jo...</td>\n      <td>date raya exclus celebr match nonceleb want jo...</td>\n      <td>bumble dating app</td>\n      <td>https://forums.sherdog.com/threads/theres-now-...</td>\n    </tr>\n  </tbody>\n</table>\n</div>"
     },
     "execution_count": 19,
     "metadata": {},
     "output_type": "execute_result"
    }
   ],
   "source": [
    "data.head()"
   ],
   "metadata": {
    "collapsed": false,
    "pycharm": {
     "name": "#%%\n"
    }
   }
  },
  {
   "cell_type": "code",
   "execution_count": 20,
   "outputs": [],
   "source": [
    "data.to_csv(\"../rapid_news_cleaned.csv\", index=False)"
   ],
   "metadata": {
    "collapsed": false,
    "pycharm": {
     "name": "#%%\n"
    }
   }
  }
 ],
 "metadata": {
  "kernelspec": {
   "name": "python3",
   "language": "python",
   "display_name": "Python 3"
  },
  "language_info": {
   "codemirror_mode": {
    "name": "ipython",
    "version": 2.0
   },
   "file_extension": ".py",
   "mimetype": "text/x-python",
   "name": "python",
   "nbconvert_exporter": "python",
   "pygments_lexer": "ipython2",
   "version": "2.7.6"
  }
 },
 "nbformat": 4,
 "nbformat_minor": 0
}